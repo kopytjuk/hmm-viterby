{
 "cells": [
  {
   "cell_type": "markdown",
   "metadata": {},
   "source": [
    "# Hidden Markov Model - Implementation of Viterby Algorithm\n",
    "In this notebook we create a simple HMM and implement the Viterby algorithm to retrieve the most probable sequence out of a sequence of measurements."
   ]
  },
  {
   "cell_type": "code",
   "execution_count": 1,
   "metadata": {},
   "outputs": [],
   "source": [
    "# some imports\n",
    "import numpy as np\n",
    "import pandas as pd\n",
    "import matplotlib.pyplot as plt\n",
    "from enum import IntEnum\n",
    "%matplotlib inline"
   ]
  },
  {
   "cell_type": "markdown",
   "metadata": {},
   "source": [
    "## HMM definition\n",
    "We want to implement the following model."
   ]
  },
  {
   "cell_type": "code",
   "execution_count": 2,
   "metadata": {
    "collapsed": true
   },
   "outputs": [],
   "source": [
    "# here a picture"
   ]
  },
  {
   "cell_type": "markdown",
   "metadata": {},
   "source": [
    "Let's define some hidden and observable states"
   ]
  },
  {
   "cell_type": "code",
   "execution_count": 3,
   "metadata": {
    "collapsed": true
   },
   "outputs": [],
   "source": [
    "# hidden\n",
    "class Weather(IntEnum):\n",
    "    Sun = 0\n",
    "    Cloud = 1\n",
    "    Rain = 2"
   ]
  },
  {
   "cell_type": "code",
   "execution_count": 4,
   "metadata": {
    "collapsed": true
   },
   "outputs": [],
   "source": [
    "# observable\n",
    "class Mood(IntEnum):\n",
    "    Good = 0\n",
    "    Bad = 1"
   ]
  },
  {
   "cell_type": "markdown",
   "metadata": {},
   "source": [
    "### Transition matrix $A$\n",
    "Now we define the state transition matrix $A$. Probability of changing from hidden state $i$ to state $j$ is saved in elements $a_{ij}$."
   ]
  },
  {
   "cell_type": "code",
   "execution_count": 5,
   "metadata": {
    "collapsed": true
   },
   "outputs": [],
   "source": [
    "A = np.zeros(shape=(len(Weather), len(Weather)))"
   ]
  },
  {
   "cell_type": "markdown",
   "metadata": {},
   "source": [
    "Let's create some probabilities $a_{ij}$"
   ]
  },
  {
   "cell_type": "code",
   "execution_count": 6,
   "metadata": {},
   "outputs": [],
   "source": [
    "A[Weather.Sun, Weather.Sun] = 0.99\n",
    "A[Weather.Sun, Weather.Cloud] = 0.01\n",
    "A[Weather.Sun, Weather.Rain] = 0\n",
    "A[Weather.Cloud, Weather.Sun] = 0.0\n",
    "A[Weather.Cloud, Weather.Cloud] = 0.0\n",
    "A[Weather.Cloud, Weather.Rain] = 1\n",
    "A[Weather.Rain, Weather.Sun] = 0.0\n",
    "A[Weather.Rain, Weather.Cloud] = 0.0\n",
    "A[Weather.Rain, Weather.Rain] = 1.0"
   ]
  },
  {
   "cell_type": "code",
   "execution_count": 7,
   "metadata": {},
   "outputs": [
    {
     "data": {
      "text/plain": [
       "array([[ 0.99,  0.01,  0.  ],\n",
       "       [ 0.  ,  0.  ,  1.  ],\n",
       "       [ 0.  ,  0.  ,  1.  ]])"
      ]
     },
     "execution_count": 7,
     "metadata": {},
     "output_type": "execute_result"
    }
   ],
   "source": [
    "A"
   ]
  },
  {
   "cell_type": "markdown",
   "metadata": {},
   "source": [
    "### Observation matrix $B$\n",
    "Now we define the probabilities $b_{ij}$ observing curtain value j given a hidden state i. We save them in the matrix $B$."
   ]
  },
  {
   "cell_type": "code",
   "execution_count": 8,
   "metadata": {
    "collapsed": true
   },
   "outputs": [],
   "source": [
    "B = np.zeros(shape=(len(Weather), len(Mood)))"
   ]
  },
  {
   "cell_type": "markdown",
   "metadata": {},
   "source": [
    "Let's define some probabilities:"
   ]
  },
  {
   "cell_type": "code",
   "execution_count": 9,
   "metadata": {
    "collapsed": true
   },
   "outputs": [],
   "source": [
    "B[Weather.Sun, Mood.Good] = 0.99\n",
    "B[Weather.Sun, Mood.Bad] = 0.01\n",
    "B[Weather.Cloud, Mood.Good] = 0.01\n",
    "B[Weather.Cloud, Mood.Bad] = 0.99\n",
    "B[Weather.Rain, Mood.Good] = 0\n",
    "B[Weather.Rain, Mood.Bad] = 1"
   ]
  },
  {
   "cell_type": "code",
   "execution_count": 10,
   "metadata": {
    "scrolled": true
   },
   "outputs": [
    {
     "data": {
      "text/plain": [
       "array([[ 0.99,  0.01],\n",
       "       [ 0.01,  0.99],\n",
       "       [ 0.  ,  1.  ]])"
      ]
     },
     "execution_count": 10,
     "metadata": {},
     "output_type": "execute_result"
    }
   ],
   "source": [
    "B"
   ]
  },
  {
   "cell_type": "markdown",
   "metadata": {},
   "source": [
    "### Initialization probability $\\pi$\n",
    "How likely is that the hidden state $i$ is the first state? We express this probability in values $\\pi_i$."
   ]
  },
  {
   "cell_type": "code",
   "execution_count": 11,
   "metadata": {
    "collapsed": true
   },
   "outputs": [],
   "source": [
    "Pi = np.zeros(len(Weather))"
   ]
  },
  {
   "cell_type": "code",
   "execution_count": 12,
   "metadata": {
    "collapsed": true
   },
   "outputs": [],
   "source": [
    "Pi[:] = [1.0, 0.0, 0.0]"
   ]
  },
  {
   "cell_type": "code",
   "execution_count": 13,
   "metadata": {},
   "outputs": [
    {
     "data": {
      "text/plain": [
       "array([ 1.,  0.,  0.])"
      ]
     },
     "execution_count": 13,
     "metadata": {},
     "output_type": "execute_result"
    }
   ],
   "source": [
    "Pi"
   ]
  },
  {
   "cell_type": "markdown",
   "metadata": {},
   "source": [
    "## Problem\n",
    "Let's define an observed sequence. We want to determine the most probable underlying states"
   ]
  },
  {
   "cell_type": "code",
   "execution_count": 14,
   "metadata": {
    "collapsed": true
   },
   "outputs": [],
   "source": [
    "sequence = [Mood.Good, Mood.Good, Mood.Bad, Mood.Good, Mood.Bad, Mood.Bad]"
   ]
  },
  {
   "cell_type": "code",
   "execution_count": 15,
   "metadata": {
    "collapsed": true
   },
   "outputs": [],
   "source": [
    "sequence = [Mood.Good, Mood.Good, Mood.Good]"
   ]
  },
  {
   "cell_type": "markdown",
   "metadata": {},
   "source": [
    "## Algorithm\n",
    "Here some wikipeda quotes ..."
   ]
  },
  {
   "cell_type": "markdown",
   "metadata": {},
   "source": [
    "In order to run the algorithm we have to allocate some memory to save the variables $\\vartheta_{t}(i)$"
   ]
  },
  {
   "cell_type": "code",
   "execution_count": 16,
   "metadata": {
    "collapsed": true
   },
   "outputs": [],
   "source": [
    "T = np.zeros(shape=(len(sequence), len(Weather)))"
   ]
  },
  {
   "cell_type": "markdown",
   "metadata": {},
   "source": [
    "The same with the variable $\\varphi_{t}(i)$"
   ]
  },
  {
   "cell_type": "code",
   "execution_count": 17,
   "metadata": {
    "collapsed": true
   },
   "outputs": [],
   "source": [
    "P = np.zeros(shape=(len(sequence), len(Weather)))"
   ]
  },
  {
   "cell_type": "markdown",
   "metadata": {},
   "source": [
    "### Initialization"
   ]
  },
  {
   "cell_type": "code",
   "execution_count": 18,
   "metadata": {},
   "outputs": [],
   "source": [
    "# first observation\n",
    "o1 = sequence[0]"
   ]
  },
  {
   "cell_type": "code",
   "execution_count": 19,
   "metadata": {
    "collapsed": true
   },
   "outputs": [],
   "source": [
    "T[0, :] = Pi[o1]*B[:,o1]"
   ]
  },
  {
   "cell_type": "code",
   "execution_count": 20,
   "metadata": {},
   "outputs": [
    {
     "data": {
      "text/plain": [
       "array([[ 0.99,  0.01,  0.  ],\n",
       "       [ 0.  ,  0.  ,  0.  ],\n",
       "       [ 0.  ,  0.  ,  0.  ]])"
      ]
     },
     "execution_count": 20,
     "metadata": {},
     "output_type": "execute_result"
    }
   ],
   "source": [
    "T"
   ]
  },
  {
   "cell_type": "markdown",
   "metadata": {},
   "source": [
    "### Recursion\n",
    "Let's define the recursion step here:"
   ]
  },
  {
   "cell_type": "code",
   "execution_count": 21,
   "metadata": {
    "collapsed": true
   },
   "outputs": [],
   "source": [
    "def step(t, s):\n",
    "    if t > 0:\n",
    "        for i in range(len(Weather)):\n",
    "            a_v_max = 0\n",
    "            j_max = 0\n",
    "            for j in range(len(Weather)):\n",
    "                v_prev_j, _ = step(t-1, s)\n",
    "                a_ji = A[j,i]\n",
    "                a_v = a_ji*v_prev_j\n",
    "                if a_v > a_v_max:\n",
    "                    j_max = j\n",
    "                    a_v_max = a_v\n",
    "            P[t, i] = j\n",
    "            T[t, s] = B[s, sequence[t]]*a_v_max\n",
    "        return T[t, s], P[t]\n",
    "    else:\n",
    "        return T[t, s], P[t]"
   ]
  },
  {
   "cell_type": "code",
   "execution_count": 22,
   "metadata": {
    "collapsed": true
   },
   "outputs": [],
   "source": [
    "for i in range(len(Weather)):\n",
    "    T[len(sequence)-1, i], _ = step(len(sequence)-1, i)"
   ]
  },
  {
   "cell_type": "code",
   "execution_count": 23,
   "metadata": {},
   "outputs": [
    {
     "data": {
      "text/plain": [
       "array([[  9.90000000e-01,   1.00000000e-02,   0.00000000e+00],\n",
       "       [  9.80100000e-01,   1.00000000e-04,   0.00000000e+00],\n",
       "       [  9.70299000e-01,   1.00000000e-06,   0.00000000e+00]])"
      ]
     },
     "execution_count": 23,
     "metadata": {},
     "output_type": "execute_result"
    }
   ],
   "source": [
    "T"
   ]
  },
  {
   "cell_type": "code",
   "execution_count": null,
   "metadata": {
    "collapsed": true
   },
   "outputs": [],
   "source": []
  }
 ],
 "metadata": {
  "kernelspec": {
   "display_name": "Python 3",
   "language": "python",
   "name": "python3"
  },
  "language_info": {
   "codemirror_mode": {
    "name": "ipython",
    "version": 3
   },
   "file_extension": ".py",
   "mimetype": "text/x-python",
   "name": "python",
   "nbconvert_exporter": "python",
   "pygments_lexer": "ipython3",
   "version": "3.6.3"
  }
 },
 "nbformat": 4,
 "nbformat_minor": 2
}
